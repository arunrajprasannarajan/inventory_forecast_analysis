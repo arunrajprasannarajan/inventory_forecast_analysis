{
 "cells": [
  {
   "cell_type": "code",
   "execution_count": null,
   "id": "2aed639c-1b75-45ab-bd96-9bb1dd7ab532",
   "metadata": {},
   "outputs": [],
   "source": [
    "# %% Import libraries\n",
    "\n",
    "import pandas as pd\n",
    "import matplotlib.pyplot as plt"
   ]
  },
  {
   "cell_type": "code",
   "execution_count": null,
   "id": "4d8a520e-44a3-4a50-b4b3-fd4dd46cbe31",
   "metadata": {},
   "outputs": [],
   "source": [
    "# %% Load the dataset\n",
    "\n",
    "df = pd.read_csv(\"retail_store_inventory.csv\")"
   ]
  },
  {
   "cell_type": "code",
   "execution_count": null,
   "id": "af09e99b-14ff-497d-9893-ad211b9508a4",
   "metadata": {},
   "outputs": [
    {
     "name": "stdout",
     "output_type": "stream",
     "text": [
      "Shape of the dataset: (73100, 15)\n",
      "\n",
      "Column names:\n",
      " ['Date', 'Store ID', 'Product ID', 'Category', 'Region', 'Inventory Level', 'Units Sold', 'Units Ordered', 'Demand Forecast', 'Price', 'Discount', 'Weather Condition', 'Holiday/Promotion', 'Competitor Pricing', 'Seasonality']\n",
      "\n",
      "Data types:\n",
      " Date                   object\n",
      "Store ID               object\n",
      "Product ID             object\n",
      "Category               object\n",
      "Region                 object\n",
      "Inventory Level         int64\n",
      "Units Sold              int64\n",
      "Units Ordered           int64\n",
      "Demand Forecast       float64\n",
      "Price                 float64\n",
      "Discount                int64\n",
      "Weather Condition      object\n",
      "Holiday/Promotion       int64\n",
      "Competitor Pricing    float64\n",
      "Seasonality            object\n",
      "dtype: object\n",
      "\n",
      "First 5 rows:\n",
      "          Date Store ID Product ID     Category Region  Inventory Level  \\\n",
      "0  2022-01-01     S001      P0001    Groceries  North              231   \n",
      "1  2022-01-01     S001      P0002         Toys  South              204   \n",
      "2  2022-01-01     S001      P0003         Toys   West              102   \n",
      "3  2022-01-01     S001      P0004         Toys  North              469   \n",
      "4  2022-01-01     S001      P0005  Electronics   East              166   \n",
      "\n",
      "   Units Sold  Units Ordered  Demand Forecast  Price  Discount  \\\n",
      "0         127             55           135.47  33.50        20   \n",
      "1         150             66           144.04  63.01        20   \n",
      "2          65             51            74.02  27.99        10   \n",
      "3          61            164            62.18  32.72        10   \n",
      "4          14            135             9.26  73.64         0   \n",
      "\n",
      "  Weather Condition  Holiday/Promotion  Competitor Pricing Seasonality  \n",
      "0             Rainy                  0               29.69      Autumn  \n",
      "1             Sunny                  0               66.16      Autumn  \n",
      "2             Sunny                  1               31.32      Summer  \n",
      "3            Cloudy                  1               34.74      Autumn  \n",
      "4             Sunny                  0               68.95      Summer  \n"
     ]
    }
   ],
   "source": [
    "# %% Basic inspection\n",
    "\n",
    "print(\"Shape of the dataset:\", df.shape)\n",
    "print(\"\\nColumn names:\\n\", df.columns.tolist())\n",
    "print(\"\\nData types:\\n\", df.dtypes)\n",
    "print(\"\\nFirst 5 rows:\\n\", df.head())"
   ]
  },
  {
   "cell_type": "code",
   "execution_count": null,
   "id": "7e44c858-4d7e-4605-8611-a1be0d4f23e2",
   "metadata": {},
   "outputs": [
    {
     "name": "stdout",
     "output_type": "stream",
     "text": [
      "\n",
      "Missing values per column:\n",
      "Date                  0\n",
      "Store ID              0\n",
      "Product ID            0\n",
      "Category              0\n",
      "Region                0\n",
      "Inventory Level       0\n",
      "Units Sold            0\n",
      "Units Ordered         0\n",
      "Demand Forecast       0\n",
      "Price                 0\n",
      "Discount              0\n",
      "Weather Condition     0\n",
      "Holiday/Promotion     0\n",
      "Competitor Pricing    0\n",
      "Seasonality           0\n",
      "dtype: int64\n"
     ]
    }
   ],
   "source": [
    "# %% Check for missing values\n",
    "\n",
    "print(\"\\nMissing values per column:\")\n",
    "print(df.isnull().sum())"
   ]
  },
  {
   "cell_type": "code",
   "execution_count": null,
   "id": "4b6302f4-1626-48ec-b274-88604da15408",
   "metadata": {},
   "outputs": [
    {
     "name": "stdout",
     "output_type": "stream",
     "text": [
      "\n",
      "Duplicate rows: 0\n"
     ]
    }
   ],
   "source": [
    "# %% Check for duplicate rows\n",
    "\n",
    "duplicate_rows = df.duplicated().sum()\n",
    "print(f\"\\nDuplicate rows: {duplicate_rows}\")"
   ]
  },
  {
   "cell_type": "code",
   "execution_count": null,
   "id": "2b2ad03b-32cb-4682-bdfe-bbdddfb55daf",
   "metadata": {},
   "outputs": [
    {
     "name": "stdout",
     "output_type": "stream",
     "text": [
      "\n",
      "Unique values in 'Weather Condition': ['Rainy' 'Sunny' 'Cloudy' 'Snowy']\n",
      "Unique values in 'Seasonality': ['Autumn' 'Summer' 'Winter' 'Spring']\n"
     ]
    }
   ],
   "source": [
    "# %% Preview unique values in categorical fields\n",
    "\n",
    "print(\"\\nUnique values in 'Weather Condition':\", df['Weather Condition'].unique())\n",
    "print(\"Unique values in 'Seasonality':\", df['Seasonality'].unique())"
   ]
  },
  {
   "cell_type": "code",
   "execution_count": null,
   "id": "c93949e2-63d0-47f9-9a03-2b5b2a1151fd",
   "metadata": {},
   "outputs": [
    {
     "name": "stdout",
     "output_type": "stream",
     "text": [
      "\n",
      "Columns with missing values:\n",
      "Series([], dtype: int64)\n"
     ]
    }
   ],
   "source": [
    "# %% Show only columns with missing values\n",
    "\n",
    "missing = df.isnull().sum()\n",
    "missing = missing[missing > 0]\n",
    "print(\"\\nColumns with missing values:\")\n",
    "print(missing)"
   ]
  },
  {
   "cell_type": "code",
   "execution_count": null,
   "id": "686b35e7-e41e-4f86-9b24-f5e3c91b5d03",
   "metadata": {},
   "outputs": [
    {
     "name": "stdout",
     "output_type": "stream",
     "text": [
      "\n",
      "Rows with at least one missing value: 0\n"
     ]
    }
   ],
   "source": [
    "# %% Count rows with any missing values\n",
    "\n",
    "rows_with_na = df.isnull().any(axis=1).sum()\n",
    "print(f\"\\nRows with at least one missing value: {rows_with_na}\")"
   ]
  },
  {
   "cell_type": "code",
   "execution_count": null,
   "id": "383987c5-9de1-4042-8a21-979d5030f501",
   "metadata": {},
   "outputs": [
    {
     "name": "stdout",
     "output_type": "stream",
     "text": [
      "\n",
      "New dataset shape after dropping missing rows: (73100, 15)\n"
     ]
    }
   ],
   "source": [
    "# %% Drop rows with any missing values\n",
    "\n",
    "df_cleaned = df.dropna()\n",
    "print(\"\\nNew dataset shape after dropping missing rows:\", df_cleaned.shape)"
   ]
  },
  {
   "cell_type": "code",
   "execution_count": null,
   "id": "9a6b872b-7434-4a07-81fd-6b1097719933",
   "metadata": {},
   "outputs": [
    {
     "name": "stdout",
     "output_type": "stream",
     "text": [
      "\n",
      "Date column type after conversion: datetime64[ns]\n",
      "Date range: 2022-01-01 00:00:00 to 2024-01-01 00:00:00\n"
     ]
    }
   ],
   "source": [
    "# %% Convert 'Date' column to datetime format\n",
    "\n",
    "df_cleaned['Date'] = pd.to_datetime(df_cleaned['Date'], format='%Y-%m-%d', errors='coerce')\n",
    "print(\"\\nDate column type after conversion:\", df_cleaned['Date'].dtype)\n",
    "print(\"Date range:\", df_cleaned['Date'].min(), \"to\", df_cleaned['Date'].max())"
   ]
  },
  {
   "cell_type": "code",
   "execution_count": null,
   "id": "1090317c-cd35-4e15-9fc3-389f33072994",
   "metadata": {},
   "outputs": [],
   "source": [
    "# %% Extract month from the date\n",
    "\n",
    "df_cleaned['Month'] = df_cleaned['Date'].dt.to_period('M')"
   ]
  },
  {
   "cell_type": "code",
   "execution_count": null,
   "id": "e6a5a4c7-69d8-490a-8a32-4ed987bc2f76",
   "metadata": {},
   "outputs": [],
   "source": [
    "# %% Group by Month and include row count to detect incomplete months\n",
    "\n",
    "monthly_summary = df_cleaned.groupby('Month').agg({\n",
    "    'Units Sold': 'sum',\n",
    "    'Demand Forecast': 'sum',\n",
    "    'Inventory Level': 'mean',\n",
    "    'Date': 'count'\n",
    "}).rename(columns={'Date': 'Row Count'}).reset_index()"
   ]
  },
  {
   "cell_type": "code",
   "execution_count": null,
   "id": "3a5b5789-a1ed-4671-ba9c-d19ab91b8f17",
   "metadata": {},
   "outputs": [],
   "source": [
    "# %% Filter out months with low data or zero values\n",
    "\n",
    "monthly_summary = monthly_summary[(monthly_summary['Row Count'] > 100) &\n",
    "                                  (monthly_summary['Units Sold'] > 0) &\n",
    "                                  (monthly_summary['Demand Forecast'] > 0)]\n",
    "\n",
    "monthly_summary['Month'] = monthly_summary['Month'].astype(str)"
   ]
  },
  {
   "cell_type": "code",
   "execution_count": null,
   "id": "8a6ae87b-ccc3-4cdc-bc8e-34b939e297cd",
   "metadata": {},
   "outputs": [
    {
     "name": "stdout",
     "output_type": "stream",
     "text": [
      "Forecast Accuracy:\n",
      "      Month       MAE      MAPE\n",
      "0   2022-01  15651.72  3.727150\n",
      "1   2022-02  14434.42  3.691177\n",
      "2   2022-03  15992.41  3.753444\n",
      "3   2022-04  15065.83  3.698225\n",
      "4   2022-05  14933.32  3.600134\n",
      "5   2022-06  14980.22  3.605270\n",
      "6   2022-07  15530.64  3.640324\n",
      "7   2022-08  15443.69  3.634528\n",
      "8   2022-09  15460.14  3.756017\n",
      "9   2022-10  15282.19  3.580116\n",
      "10  2022-11  14960.95  3.609092\n",
      "11  2022-12  15666.24  3.799525\n",
      "12  2023-01  15437.24  3.645949\n",
      "13  2023-02  15013.47  3.897902\n",
      "14  2023-03  15522.77  3.726759\n",
      "15  2023-04  14260.59  3.555574\n",
      "16  2023-05  14765.68  3.526781\n",
      "17  2023-06  15446.56  3.807939\n",
      "18  2023-07  16592.60  3.788966\n",
      "19  2023-08  16228.17  3.896310\n",
      "20  2023-09  14511.74  3.579955\n",
      "21  2023-10  15360.74  3.608806\n",
      "22  2023-11  15843.43  3.807364\n",
      "23  2023-12  14818.78  3.539472\n"
     ]
    }
   ],
   "source": [
    "# %% Calculate Forecast Accuracy (MAE and MAPE)\n",
    "\n",
    "# Calculate MAE\n",
    "monthly_summary['MAE'] = abs(monthly_summary['Units Sold'] - monthly_summary['Demand Forecast'])\n",
    "\n",
    "# Calculate MAPE (avoid divide by zero)\n",
    "monthly_summary['MAPE'] = (monthly_summary['MAE'] / monthly_summary['Units Sold']) * 100\n",
    "\n",
    "# Print summary metrics\n",
    "print(\"Forecast Accuracy:\")\n",
    "print(monthly_summary[['Month', 'MAE', 'MAPE']])"
   ]
  },
  {
   "cell_type": "code",
   "execution_count": null,
   "id": "e2f5a7c5-bf74-4df1-a72f-96a5d2e11a04",
   "metadata": {},
   "outputs": [
    {
     "data": {
      "image/png": "[encoded data removed]",
      "text/plain": [
       "<Figure size 1200x600 with 1 Axes>"
      ]
     },
     "metadata": {},
     "output_type": "display_data"
    }
   ],
   "source": [
    "# %% Plot the results\n",
    "\n",
    "plt.figure(figsize=(12, 6))\n",
    "plt.plot(monthly_summary['Month'], monthly_summary['Units Sold'], marker='o', label='Actual Sales')\n",
    "plt.plot(monthly_summary['Month'], monthly_summary['Demand Forecast'], marker='o', label='Forecast')\n",
    "plt.plot(monthly_summary['Month'], monthly_summary['Inventory Level'], marker='o', label='Avg Inventory Level')\n",
    "plt.title('Monthly Sales vs Forecast vs Inventory Level')\n",
    "plt.xlabel('Month')\n",
    "plt.ylabel('Units')\n",
    "plt.xticks(rotation=45)\n",
    "plt.grid(True)\n",
    "plt.legend()\n",
    "plt.tight_layout()\n",
    "plt.show()"
   ]
  }
 ],
 "metadata": {
  "language_info": {
   "codemirror_mode": {
    "name": "ipython",
    "version": 3
   },
   "file_extension": ".py",
   "mimetype": "text/x-python",
   "name": "python",
   "nbconvert_exporter": "python",
   "pygments_lexer": "ipython3",
   "version": 3
  }
 },
 "nbformat": 4,
 "nbformat_minor": 2
}
